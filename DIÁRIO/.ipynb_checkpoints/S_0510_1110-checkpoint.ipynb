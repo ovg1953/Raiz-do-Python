{
 "cells": [
  {
   "cell_type": "markdown",
   "metadata": {},
   "source": [
    "### semana de 05/10/2020 à 11//10/2020"
   ]
  },
  {
   "cell_type": "markdown",
   "metadata": {},
   "source": [
    "### 07/10/2020\n",
    "\n",
    "O treinamento começara tendo por base a documentação oficial do Python, a qual baixei nos formatos\n",
    "-.PDF\n",
    "-.HTML \n",
    "-.TXT\n",
    "\n",
    "Esta última, usarei para brincar com estatísticas e processamento de textos, filtragens (REGEX), etc...\n",
    "\n",
    ">A BASE DE TREINAMENTO SERÁ O TUTORIAL QUE VEM NA DOCUMENTAÇÃO E\n",
    ">AS SUGESTÕES DE EXERCÍCIOS QUE VEM NO BEGINNER´S GUIDE"
   ]
  },
  {
   "cell_type": "markdown",
   "metadata": {},
   "source": [
    "### 08/10/2020\n"
   ]
  }
 ],
 "metadata": {
  "kernelspec": {
   "display_name": "Python 3.8.3 64-bit ('ovgalva': virtualenv)",
   "language": "python",
   "name": "python38364bitovgalvavirtualenv55955dac564f40579d96bce56c92f900"
  },
  "language_info": {
   "codemirror_mode": {
    "name": "ipython",
    "version": 3
   },
   "file_extension": ".py",
   "mimetype": "text/x-python",
   "name": "python",
   "nbconvert_exporter": "python",
   "pygments_lexer": "ipython3",
   "version": "3.8.3"
  }
 },
 "nbformat": 4,
 "nbformat_minor": 4
}
