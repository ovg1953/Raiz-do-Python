{
 "cells": [
  {
   "cell_type": "markdown",
   "metadata": {},
   "source": [
    "###**_AQUI_** FAREMOS O ACOMPANHAMENTO DO ESTUDO DO PYTHON\n",
    "\n",
    "Cada Notebook corresponderá ao que foi feito durante a semana de estudo,\n",
    "sendo preenchido diariamente, uma célula para cada dia - \n",
    "\n",
    ">Convenção d nome dos Notebooks: **S_dd_mm_dd_mm**\n",
    ">    onde \"dd\" é o dia da segunda e do domingo respectivamente    \n",
    ">       e \"mm\" é o mes da segunda e do domingo repsectivamente\n",
    "        \n",
    "---------------  \n"
   ]
  },
  {
   "cell_type": "code",
   "execution_count": null,
   "metadata": {},
   "outputs": [],
   "source": []
  }
 ],
 "metadata": {
  "kernelspec": {
   "display_name": "Python 3",
   "language": "python",
   "name": "python3"
  },
  "language_info": {
   "codemirror_mode": {
    "name": "ipython",
    "version": 3
   },
   "file_extension": ".py",
   "mimetype": "text/x-python",
   "name": "python",
   "nbconvert_exporter": "python",
   "pygments_lexer": "ipython3",
   "version": "3.8.3"
  }
 },
 "nbformat": 4,
 "nbformat_minor": 4
}
